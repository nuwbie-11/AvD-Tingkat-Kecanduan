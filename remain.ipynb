{
 "cells": [
  {
   "cell_type": "code",
   "execution_count": 1,
   "metadata": {},
   "outputs": [],
   "source": [
    "import pandas as pd\n",
    "import numpy as np\n",
    "import seaborn as sb\n",
    "import matplotlib.pyplot as plt"
   ]
  },
  {
   "cell_type": "code",
   "execution_count": null,
   "metadata": {},
   "outputs": [],
   "source": []
  },
  {
   "cell_type": "code",
   "execution_count": 2,
   "metadata": {},
   "outputs": [],
   "source": [
    "df = pd.read_csv(\"Tingkat Ketergantungan Pada Gadget (Jawaban).csv\")"
   ]
  },
  {
   "cell_type": "code",
   "execution_count": 3,
   "metadata": {},
   "outputs": [
    {
     "data": {
      "text/html": [
       "<div>\n",
       "<style scoped>\n",
       "    .dataframe tbody tr th:only-of-type {\n",
       "        vertical-align: middle;\n",
       "    }\n",
       "\n",
       "    .dataframe tbody tr th {\n",
       "        vertical-align: top;\n",
       "    }\n",
       "\n",
       "    .dataframe thead th {\n",
       "        text-align: right;\n",
       "    }\n",
       "</style>\n",
       "<table border=\"1\" class=\"dataframe\">\n",
       "  <thead>\n",
       "    <tr style=\"text-align: right;\">\n",
       "      <th></th>\n",
       "      <th>Timestamp</th>\n",
       "      <th>Nama</th>\n",
       "      <th>Usia</th>\n",
       "      <th>Gelisah saat tidak ada Gadget</th>\n",
       "      <th>Keberatan Melepas Gadget</th>\n",
       "      <th>Gadget saat aktivitas lain</th>\n",
       "      <th>sering memeriksa feed</th>\n",
       "      <th>skala periksa feed</th>\n",
       "      <th>Lama memakai gadget dalam sehari</th>\n",
       "      <th>kegiatan paling lama saat gadgetan</th>\n",
       "      <th>biaya ngegadget</th>\n",
       "      <th>penghasilan dari gadget</th>\n",
       "      <th>gadget saat luang</th>\n",
       "      <th>langsung beli gadget saat rusak</th>\n",
       "    </tr>\n",
       "  </thead>\n",
       "  <tbody>\n",
       "    <tr>\n",
       "      <th>0</th>\n",
       "      <td>12/5/2021 22:17:20</td>\n",
       "      <td>Rexion</td>\n",
       "      <td>18</td>\n",
       "      <td>4</td>\n",
       "      <td>Ya Ya Ya</td>\n",
       "      <td>Ya, tentu</td>\n",
       "      <td>G</td>\n",
       "      <td>4</td>\n",
       "      <td>&gt; 5 jam</td>\n",
       "      <td>Nonton Film , Kartun , etc</td>\n",
       "      <td>35</td>\n",
       "      <td>NaN</td>\n",
       "      <td>Ya</td>\n",
       "      <td>Ya</td>\n",
       "    </tr>\n",
       "    <tr>\n",
       "      <th>1</th>\n",
       "      <td>12/5/2021 22:18:50</td>\n",
       "      <td>Lexion</td>\n",
       "      <td>19</td>\n",
       "      <td>2</td>\n",
       "      <td>Tidak</td>\n",
       "      <td>Ya, tentu</td>\n",
       "      <td>G</td>\n",
       "      <td>1</td>\n",
       "      <td>&gt; 5 jam</td>\n",
       "      <td>produktif</td>\n",
       "      <td>50</td>\n",
       "      <td>NaN</td>\n",
       "      <td>Tidak</td>\n",
       "      <td>Tidak</td>\n",
       "    </tr>\n",
       "    <tr>\n",
       "      <th>2</th>\n",
       "      <td>12/6/2021 9:22:14</td>\n",
       "      <td>Chinta 'Aliyyah Candramaya</td>\n",
       "      <td>20</td>\n",
       "      <td>2</td>\n",
       "      <td>Tidak</td>\n",
       "      <td>Ya, tentu</td>\n",
       "      <td>Y</td>\n",
       "      <td>4</td>\n",
       "      <td>&gt; 5 jam</td>\n",
       "      <td>produktif</td>\n",
       "      <td>100</td>\n",
       "      <td>1500</td>\n",
       "      <td>Ya</td>\n",
       "      <td>Tidak</td>\n",
       "    </tr>\n",
       "    <tr>\n",
       "      <th>3</th>\n",
       "      <td>12/6/2021 9:40:01</td>\n",
       "      <td>Shafira hemalia berliana putri</td>\n",
       "      <td>19</td>\n",
       "      <td>2</td>\n",
       "      <td>Tidak</td>\n",
       "      <td>Ya, tentu</td>\n",
       "      <td>Y</td>\n",
       "      <td>3</td>\n",
       "      <td>&gt; 5 jam</td>\n",
       "      <td>Mantengin Medsos (IG, Twitter, FB, Tiktok, etc)</td>\n",
       "      <td>49000</td>\n",
       "      <td>2.8jt</td>\n",
       "      <td>Ya</td>\n",
       "      <td>Ya</td>\n",
       "    </tr>\n",
       "    <tr>\n",
       "      <th>4</th>\n",
       "      <td>12/6/2021 9:40:05</td>\n",
       "      <td>Stefany Amanda Kurniawa</td>\n",
       "      <td>18</td>\n",
       "      <td>2</td>\n",
       "      <td>Ya Ya Ya</td>\n",
       "      <td>Ya, tentu</td>\n",
       "      <td>G</td>\n",
       "      <td>1</td>\n",
       "      <td>&gt; 5 jam</td>\n",
       "      <td>Nonton Film , Kartun , etc</td>\n",
       "      <td>Pake wifi</td>\n",
       "      <td>NaN</td>\n",
       "      <td>Tidak</td>\n",
       "      <td>Tidak</td>\n",
       "    </tr>\n",
       "  </tbody>\n",
       "</table>\n",
       "</div>"
      ],
      "text/plain": [
       "            Timestamp                             Nama Usia  \\\n",
       "0  12/5/2021 22:17:20                           Rexion   18   \n",
       "1  12/5/2021 22:18:50                           Lexion   19   \n",
       "2   12/6/2021 9:22:14       Chinta 'Aliyyah Candramaya   20   \n",
       "3   12/6/2021 9:40:01  Shafira hemalia berliana putri    19   \n",
       "4   12/6/2021 9:40:05         Stefany Amanda Kurniawa    18   \n",
       "\n",
       "   Gelisah saat tidak ada Gadget Keberatan Melepas Gadget  \\\n",
       "0                              4                 Ya Ya Ya   \n",
       "1                              2                    Tidak   \n",
       "2                              2                    Tidak   \n",
       "3                              2                    Tidak   \n",
       "4                              2                 Ya Ya Ya   \n",
       "\n",
       "  Gadget saat aktivitas lain sering memeriksa feed  skala periksa feed  \\\n",
       "0                  Ya, tentu                     G                   4   \n",
       "1                  Ya, tentu                     G                   1   \n",
       "2                  Ya, tentu                     Y                   4   \n",
       "3                  Ya, tentu                     Y                   3   \n",
       "4                  Ya, tentu                     G                   1   \n",
       "\n",
       "  Lama memakai gadget dalam sehari  \\\n",
       "0                          > 5 jam   \n",
       "1                          > 5 jam   \n",
       "2                          > 5 jam   \n",
       "3                          > 5 jam   \n",
       "4                          > 5 jam   \n",
       "\n",
       "                kegiatan paling lama saat gadgetan biaya ngegadget  \\\n",
       "0                       Nonton Film , Kartun , etc              35   \n",
       "1                                        produktif              50   \n",
       "2                                        produktif             100   \n",
       "3  Mantengin Medsos (IG, Twitter, FB, Tiktok, etc)           49000   \n",
       "4                       Nonton Film , Kartun , etc       Pake wifi   \n",
       "\n",
       "  penghasilan dari gadget gadget saat luang langsung beli gadget saat rusak  \n",
       "0                     NaN                Ya                              Ya  \n",
       "1                     NaN             Tidak                           Tidak  \n",
       "2                    1500                Ya                           Tidak  \n",
       "3                   2.8jt                Ya                              Ya  \n",
       "4                     NaN             Tidak                           Tidak  "
      ]
     },
     "execution_count": 3,
     "metadata": {},
     "output_type": "execute_result"
    }
   ],
   "source": [
    "df.head()"
   ]
  },
  {
   "cell_type": "code",
   "execution_count": 4,
   "metadata": {},
   "outputs": [],
   "source": [
    "df = df.drop(columns = [\"Timestamp\",\"Nama\"])"
   ]
  },
  {
   "cell_type": "code",
   "execution_count": 5,
   "metadata": {},
   "outputs": [
    {
     "data": {
      "text/plain": [
       "array(['Usia', 'Gelisah saat tidak ada Gadget',\n",
       "       'Keberatan Melepas Gadget', 'Gadget saat aktivitas lain',\n",
       "       'sering memeriksa feed', 'skala periksa feed',\n",
       "       'Lama memakai gadget dalam sehari',\n",
       "       'kegiatan paling lama saat gadgetan', 'biaya ngegadget',\n",
       "       'penghasilan dari gadget', 'gadget saat luang',\n",
       "       'langsung beli gadget saat rusak'], dtype=object)"
      ]
     },
     "execution_count": 5,
     "metadata": {},
     "output_type": "execute_result"
    }
   ],
   "source": [
    "df.columns.values"
   ]
  },
  {
   "cell_type": "code",
   "execution_count": 6,
   "metadata": {},
   "outputs": [
    {
     "name": "stdout",
     "output_type": "stream",
     "text": [
      "<class 'pandas.core.frame.DataFrame'>\n",
      "RangeIndex: 75 entries, 0 to 74\n",
      "Data columns (total 12 columns):\n",
      " #   Column                              Non-Null Count  Dtype \n",
      "---  ------                              --------------  ----- \n",
      " 0   Usia                                75 non-null     object\n",
      " 1   Gelisah saat tidak ada Gadget       75 non-null     int64 \n",
      " 2   Keberatan Melepas Gadget            75 non-null     object\n",
      " 3   Gadget saat aktivitas lain          75 non-null     object\n",
      " 4   sering memeriksa feed               75 non-null     object\n",
      " 5   skala periksa feed                  75 non-null     int64 \n",
      " 6   Lama memakai gadget dalam sehari    75 non-null     object\n",
      " 7   kegiatan paling lama saat gadgetan  75 non-null     object\n",
      " 8   biaya ngegadget                     75 non-null     object\n",
      " 9   penghasilan dari gadget             17 non-null     object\n",
      " 10  gadget saat luang                   75 non-null     object\n",
      " 11  langsung beli gadget saat rusak     75 non-null     object\n",
      "dtypes: int64(2), object(10)\n",
      "memory usage: 7.2+ KB\n"
     ]
    }
   ],
   "source": [
    "df.info()"
   ]
  },
  {
   "cell_type": "code",
   "execution_count": 7,
   "metadata": {},
   "outputs": [],
   "source": [
    "penghasilan = df[\"penghasilan dari gadget\"].str.extract(r'(\\d+)').values"
   ]
  },
  {
   "cell_type": "code",
   "execution_count": 8,
   "metadata": {},
   "outputs": [
    {
     "data": {
      "image/png": "[encoded data removed]",
      "text/plain": [
       "<Figure size 432x288 with 1 Axes>"
      ]
     },
     "metadata": {
      "needs_background": "light"
     },
     "output_type": "display_data"
    }
   ],
   "source": [
    "count = { \n",
    "    \"null val\":0,\n",
    "    \"non null\" : 0\n",
    "}\n",
    "for items in penghasilan.tolist():\n",
    "    item = items[0]\n",
    "    if type(item) == float:\n",
    "        count['null val'] += 1\n",
    "    else:\n",
    "        count['non null'] += 1\n",
    "\n",
    "state = list(count.keys())\n",
    "values = list(count.values())\n",
    "\n",
    "plt.bar(range(len(count)),values,tick_label = state)\n",
    "plt.title(\"penghasilan gadget\")\n",
    "plt.show()"
   ]
  },
  {
   "cell_type": "code",
   "execution_count": 9,
   "metadata": {},
   "outputs": [],
   "source": [
    "df = df.drop(columns=[\"penghasilan dari gadget\"])"
   ]
  },
  {
   "cell_type": "code",
   "execution_count": 10,
   "metadata": {},
   "outputs": [
    {
     "data": {
      "text/plain": [
       "Text(0.5, 1.0, 'Biaya Ngegadget')"
      ]
     },
     "execution_count": 10,
     "metadata": {},
     "output_type": "execute_result"
    },
    {
     "data": {
      "image/png": "[encoded data removed]",
      "text/plain": [
       "<Figure size 1584x360 with 1 Axes>"
      ]
     },
     "metadata": {
      "needs_background": "light"
     },
     "output_type": "display_data"
    }
   ],
   "source": [
    "count = {}\n",
    "\n",
    "for item in df['biaya ngegadget'].values.tolist():\n",
    "    if item in count:\n",
    "        count[(item)] += 1\n",
    "    else:\n",
    "        count[item] = 1\n",
    "\n",
    "names = list(count.keys())\n",
    "values = list(count.values())\n",
    "plt.figure(figsize=(22,5))\n",
    "plt.bar(range(len(count)),values,tick_label = names)\n",
    "plt.title(\"Biaya Ngegadget\")"
   ]
  },
  {
   "cell_type": "code",
   "execution_count": 11,
   "metadata": {},
   "outputs": [],
   "source": [
    "df[\"biaya ngegadget\"] = df[\"biaya ngegadget\"].str.extract(r'(\\d+)')"
   ]
  },
  {
   "cell_type": "code",
   "execution_count": 14,
   "metadata": {},
   "outputs": [],
   "source": [
    "df = df.dropna()"
   ]
  },
  {
   "cell_type": "code",
   "execution_count": 15,
   "metadata": {},
   "outputs": [
    {
     "name": "stdout",
     "output_type": "stream",
     "text": [
      "<class 'pandas.core.frame.DataFrame'>\n",
      "Int64Index: 72 entries, 0 to 74\n",
      "Data columns (total 11 columns):\n",
      " #   Column                              Non-Null Count  Dtype \n",
      "---  ------                              --------------  ----- \n",
      " 0   Usia                                72 non-null     object\n",
      " 1   Gelisah saat tidak ada Gadget       72 non-null     int64 \n",
      " 2   Keberatan Melepas Gadget            72 non-null     object\n",
      " 3   Gadget saat aktivitas lain          72 non-null     object\n",
      " 4   sering memeriksa feed               72 non-null     object\n",
      " 5   skala periksa feed                  72 non-null     int64 \n",
      " 6   Lama memakai gadget dalam sehari    72 non-null     object\n",
      " 7   kegiatan paling lama saat gadgetan  72 non-null     object\n",
      " 8   biaya ngegadget                     72 non-null     object\n",
      " 9   gadget saat luang                   72 non-null     object\n",
      " 10  langsung beli gadget saat rusak     72 non-null     object\n",
      "dtypes: int64(2), object(9)\n",
      "memory usage: 6.8+ KB\n"
     ]
    }
   ],
   "source": [
    "df.info()"
   ]
  },
  {
   "cell_type": "code",
   "execution_count": 16,
   "metadata": {},
   "outputs": [],
   "source": [
    "df[\"Usia\"] = df[\"Usia\"].str.extract(r'(\\d+)')\n",
    "df[\"Usia\"] = df[\"Usia\"].astype('int64')"
   ]
  },
  {
   "cell_type": "code",
   "execution_count": null,
   "metadata": {},
   "outputs": [],
   "source": [
    "df[\"Keberatan Melepas Gadget\"] = df[\"Keberatan Melepas Gadget\"].replace({\"Ya Ya Ya\" : 1, \"Tidak\":0})\n",
    "df[\"Gadget saat aktivitas lain\"] = df[\"Gadget saat aktivitas lain\"].replace({\"Ya, tentu\" : 1, \"Tentu saja tidak\":0})\n",
    "df[\"sering memeriksa feed\"] = df[\"sering memeriksa feed\"].replace({\"Y\" :1, \"G\":0})\n",
    "df[\"gadget saat luang\"] = df[\"gadget saat luang\"].replace({\"Ya\" :1, \"Tidak\":0})\n",
    "df[\"langsung beli gadget saat rusak\"] = df[\"langsung beli gadget saat rusak\"].replace({\"Ya\" :1, \"Tidak\":0})\n",
    "df[\"Lama memakai gadget dalam sehari\"] = df[\"Lama memakai gadget dalam sehari\"].replace({\"1 - 2 Jam\" : 1, \"2 - 4 Jam\":2, \"4 - 5 Jam\" : 3, \"> 5 jam\":4})\n",
    "df[\"kegiatan paling lama saat gadgetan\"] = df[\"kegiatan paling lama saat gadgetan\"].replace({\"Maen game\" : 1, \"Mantengin Medsos (IG, Twitter, FB, Tiktok, etc)\":2, \"Ngesimp Streamer\" : 3, \"Nonton Film , Kartun , etc\":4, \"produktif\":5})"
   ]
  },
  {
   "cell_type": "code",
   "execution_count": null,
   "metadata": {},
   "outputs": [],
   "source": [
    "df.head()"
   ]
  },
  {
   "cell_type": "code",
   "execution_count": 17,
   "metadata": {},
   "outputs": [],
   "source": [
    "df[\"biaya ngegadget\"] = df[\"biaya ngegadget\"].astype('int64')"
   ]
  },
  {
   "cell_type": "code",
   "execution_count": null,
   "metadata": {},
   "outputs": [],
   "source": [
    "df.boxplot([\"biaya ngegadget\"])"
   ]
  },
  {
   "cell_type": "code",
   "execution_count": null,
   "metadata": {},
   "outputs": [],
   "source": [
    "df['biaya ngegadget'] = df['biaya ngegadget'].drop(df[df['biaya ngegadget'] > 10000].index)\n",
    "df = df.dropna()"
   ]
  },
  {
   "cell_type": "code",
   "execution_count": null,
   "metadata": {},
   "outputs": [],
   "source": [
    "df.info()"
   ]
  },
  {
   "cell_type": "code",
   "execution_count": 12,
   "metadata": {},
   "outputs": [],
   "source": [
    "def show_hist(item):\n",
    "\n",
    "    plt.clf()\n",
    "    plt.figure()\n",
    "    # melihat distribusi data kolom 'Pendapatan' menggunakan 'pyplot.hist' dari matplotlib.pyplot\n",
    "    plt.hist(x=f'{item}', data=df)\n",
    "    plt.xlabel('Pendapatan')\n",
    "    plt.title(f'Distribusi {item}', size=14)\n",
    "    plt.tight_layout()\n",
    "    plt.show()"
   ]
  },
  {
   "cell_type": "code",
   "execution_count": 18,
   "metadata": {},
   "outputs": [
    {
     "data": {
      "text/plain": [
       "<Figure size 432x288 with 0 Axes>"
      ]
     },
     "metadata": {},
     "output_type": "display_data"
    },
    {
     "data": {
      "image/png": "[encoded data removed]",
      "text/plain": [
       "<Figure size 432x288 with 1 Axes>"
      ]
     },
     "metadata": {
      "needs_background": "light"
     },
     "output_type": "display_data"
    },
    {
     "data": {
      "text/plain": [
       "<Figure size 432x288 with 0 Axes>"
      ]
     },
     "metadata": {},
     "output_type": "display_data"
    },
    {
     "data": {
      "image/png": "[encoded data removed]",
      "text/plain": [
       "<Figure size 432x288 with 1 Axes>"
      ]
     },
     "metadata": {
      "needs_background": "light"
     },
     "output_type": "display_data"
    },
    {
     "data": {
      "text/plain": [
       "<Figure size 432x288 with 0 Axes>"
      ]
     },
     "metadata": {},
     "output_type": "display_data"
    },
    {
     "data": {
      "image/png": "[encoded data removed]",
      "text/plain": [
       "<Figure size 432x288 with 1 Axes>"
      ]
     },
     "metadata": {
      "needs_background": "light"
     },
     "output_type": "display_data"
    },
    {
     "data": {
      "text/plain": [
       "<Figure size 432x288 with 0 Axes>"
      ]
     },
     "metadata": {},
     "output_type": "display_data"
    },
    {
     "data": {
      "image/png": "[encoded data removed]",
      "text/plain": [
       "<Figure size 432x288 with 1 Axes>"
      ]
     },
     "metadata": {
      "needs_background": "light"
     },
     "output_type": "display_data"
    }
   ],
   "source": [
    "\n",
    "for item in df.select_dtypes(include=['int64',\"float64\"]):\n",
    "    show_hist(item)\n"
   ]
  },
  {
   "cell_type": "code",
   "execution_count": null,
   "metadata": {},
   "outputs": [],
   "source": [
    "df.head()"
   ]
  },
  {
   "cell_type": "code",
   "execution_count": null,
   "metadata": {},
   "outputs": [],
   "source": [
    "selected_col = df.iloc[:,2:]\n",
    "selected_col.head()"
   ]
  },
  {
   "cell_type": "code",
   "execution_count": null,
   "metadata": {},
   "outputs": [],
   "source": [
    "from sklearn.cluster import KMeans\n",
    "from sklearn.preprocessing import MinMaxScaler"
   ]
  },
  {
   "cell_type": "code",
   "execution_count": null,
   "metadata": {},
   "outputs": [],
   "source": [
    "\n",
    "arrayed = np.array(selected_col)\n",
    "scaler = MinMaxScaler()\n",
    "scaled = scaler.fit_transform(arrayed)"
   ]
  },
  {
   "cell_type": "code",
   "execution_count": null,
   "metadata": {},
   "outputs": [],
   "source": [
    "kmeans = KMeans(n_clusters= 3,random_state = 0)\n",
    "kmeans.fit(scaled)\n",
    "df[\"Kluster\"] = kmeans.labels_"
   ]
  },
  {
   "cell_type": "code",
   "execution_count": null,
   "metadata": {},
   "outputs": [],
   "source": [
    "count = {}\n",
    "\n",
    "for item in df['Kluster'].values.tolist():\n",
    "    if item in count:\n",
    "        count[(item)] += 1\n",
    "    else:\n",
    "        count[item] = 1\n",
    "\n",
    "names = list(count.keys())\n",
    "values = list(count.values())\n",
    "plt.figure(figsize=(12,5))\n",
    "plt.bar(range(len(count)),values,tick_label = names)\n",
    "plt.title(\"Tingkat Kecanduan Gadget\")\n",
    "\n",
    "plt.show()"
   ]
  },
  {
   "cell_type": "code",
   "execution_count": null,
   "metadata": {},
   "outputs": [],
   "source": [
    "out = plt.scatter(scaled[:,0],df.iloc[:,0],s = 100, c = df.Kluster, marker = \".\" , alpha =1)\n",
    "ct = plt.scatter(kmeans.cluster_centers_[:,0],kmeans.cluster_centers_[:,1],s = 200, c = 'red', marker = \"o\" , alpha =1)\n",
    "\n",
    "plt.colorbar(out)\n",
    "\n",
    "plt.show()"
   ]
  },
  {
   "cell_type": "code",
   "execution_count": null,
   "metadata": {},
   "outputs": [],
   "source": [
    "def func(pct, allvalues):\n",
    "    absolute = round(pct / 100.*np.sum(allvalues))\n",
    "    return \"{:.1f}%\\n({:d})\".format(pct, int(absolute))\n",
    "\n",
    "plt.figure(figsize=(22,5))\n",
    "plt.pie(values,labels = names,explode=[0.1,0.1,0.1],autopct=lambda pct: func(pct, values))\n",
    "plt.title(\"Tingkat Kecanduan Gadget\")"
   ]
  },
  {
   "cell_type": "code",
   "execution_count": null,
   "metadata": {},
   "outputs": [],
   "source": [
    "df.info()"
   ]
  },
  {
   "cell_type": "code",
   "execution_count": null,
   "metadata": {},
   "outputs": [],
   "source": [
    "count"
   ]
  },
  {
   "cell_type": "code",
   "execution_count": null,
   "metadata": {},
   "outputs": [],
   "source": [
    "df.head()"
   ]
  },
  {
   "cell_type": "code",
   "execution_count": null,
   "metadata": {},
   "outputs": [],
   "source": []
  }
 ],
 "metadata": {
  "interpreter": {
   "hash": "4f1212124a69d0e192309562875881c403391e14c64cb7bbd7e67cd7a8d12ddb"
  },
  "kernelspec": {
   "display_name": "Python 3.9.2 64-bit",
   "language": "python",
   "name": "python3"
  },
  "language_info": {
   "codemirror_mode": {
    "name": "ipython",
    "version": 3
   },
   "file_extension": ".py",
   "mimetype": "text/x-python",
   "name": "python",
   "nbconvert_exporter": "python",
   "pygments_lexer": "ipython3",
   "version": "3.9.2"
  },
  "orig_nbformat": 4
 },
 "nbformat": 4,
 "nbformat_minor": 2
}
